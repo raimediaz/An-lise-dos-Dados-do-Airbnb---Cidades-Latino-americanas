{
  "nbformat": 4,
  "nbformat_minor": 0,
  "metadata": {
    "colab": {
      "name": "Analisando os Dados do Airbnb.ipynb",
      "provenance": [],
      "collapsed_sections": [],
      "include_colab_link": true
    },
    "kernelspec": {
      "name": "python3",
      "display_name": "Python 3"
    }
  },
  "cells": [
    {
      "cell_type": "markdown",
      "metadata": {
        "id": "view-in-github",
        "colab_type": "text"
      },
      "source": [
        "<a href=\"https://colab.research.google.com/github/raimediaz/An-lise-dos-Dados-do-Airbnb---Cidades-Latino-americanas/blob/main/An%C3%A1lise_Buenos_Aires.ipynb\" target=\"_parent\"><img src=\"https://colab.research.google.com/assets/colab-badge.svg\" alt=\"Open In Colab\"/></a>"
      ]
    },
    {
      "cell_type": "markdown",
      "metadata": {
        "id": "kLI0gJtzDGuQ"
      },
      "source": [
        "\n",
        "# Análise dos Dados do Airbnb - *Buenos Aires*\n",
        "\n",
        "O [Airbnb](https://www.airbnb.com.br/) já é considerado como sendo a **maior empresa hoteleira da atualidade**. Ah, o detalhe é que ele **não possui nenhum hotel**!\n",
        "\n",
        "Conectando pessoas que querem viajar (e se hospedar) com anfitriões que querem alugar seus imóveis de maneira prática, o Airbnb fornece uma plataforma inovadora para tornar essa hospedagem alternativa.\n",
        "\n",
        "No final de 2018, a Startup fundada 10 anos atrás, já havia **hospedado mais de 300 milhões** de pessoas ao redor de todo o mundo, desafiando as redes hoteleiras tradicionais.\n",
        "\n",
        "Uma das iniciativas do Airbnb é disponibilizar dados do site, para algumas das principais cidades do mundo. Por meio do portal [Inside Airbnb](http://insideairbnb.com/get-the-data.html), é possível baixar uma grande quantidade de dados para desenvolver projetos e soluções de *Data Science*.\n",
        "\n",
        "<center><img alt=\"Analisando Airbnb\" width=\"10%\" src=\"https://www.area360.com.au/wp-content/uploads/2017/09/airbnb-logo.jpg\"></center>\n",
        "\n",
        "**Neste *notebook*, iremos analisar os dados referentes à cidade de Buenos Aires, e ver quais insights podem ser extraídos a partir de dados brutos.**"
      ]
    },
    {
      "cell_type": "markdown",
      "metadata": {
        "id": "0zxQHhIUDF_2"
      },
      "source": [
        "## Obtenção dos Dados\n",
        "\n",
        "Todos os dados usados aqui foram obtidos a partir do site [Inside Airbnb](http://insideairbnb.com/get-the-data.html).\n",
        "\n",
        "Para esta análise exploratória inicial, será baixado apenas o seguinte arquivo:\n",
        "\n",
        "* `listings.csv` - *Summary information and metrics for listings in Buenos Aires (good for visualisations).*\n",
        "\n",
        "Importante: O portal está em constante evolução, e em determinado momento, pode ser que o [conjunto de dados](http://data.insideairbnb.com/argentina/ciudad-aut%C3%B3noma-de-buenos-aires/buenos-aires/2021-12-25/visualisations/listings.csv) exato utilizado nesse notebook não esteja mais disponível, o que quebraria nosso código.\n",
        "\n",
        "Com isso em mente, vamos ao projeto."
      ]
    },
    {
      "cell_type": "code",
      "metadata": {
        "id": "Vhp2wMPgJ6zX"
      },
      "source": [
        "# importar os pacotes necessarios\n",
        "import pandas as pd\n",
        "import matplotlib.pyplot as plt\n",
        "import seaborn as sns\n",
        "\n",
        "%matplotlib inline"
      ],
      "execution_count": 1,
      "outputs": []
    },
    {
      "cell_type": "code",
      "metadata": {
        "id": "tUmoAT8DLQ5T"
      },
      "source": [
        "# importar o arquivo listings.csv para um DataFrame\n",
        "dfb = pd.read_csv(\"http://data.insideairbnb.com/argentina/ciudad-aut%C3%B3noma-de-buenos-aires/buenos-aires/2021-12-25/visualisations/listings.csv\")"
      ],
      "execution_count": 2,
      "outputs": []
    },
    {
      "cell_type": "markdown",
      "metadata": {
        "id": "qb5By2nIMS6m"
      },
      "source": [
        "### Análise dos Dados\n",
        "\n",
        "Esta etapa tem por objetivo criar uma consciência situacional inicial e permitir um entendimento de como os dados estão estruturados."
      ]
    },
    {
      "cell_type": "markdown",
      "metadata": {
        "id": "RYgvuebKNg8-"
      },
      "source": [
        "**Dicionário das variáveis**\n",
        "\n",
        "* `id` - número de id gerado para identificar o imóvel\n",
        "* `name` - nome da propriedade anunciada\n",
        "* `host_id` - número de id do proprietário (anfitrião) da propriedade\n",
        "* `host_name` - Nome do anfitrião\n",
        "* `neighbourhood_group` - esta coluna não contém nenhum valor válido\n",
        "* `neighbourhood` - nome do bairro\n",
        "* `latitude` - coordenada da latitude da propriedade\n",
        "* `longitude` - coordenada da longitude da propriedade\n",
        "* `room_type` - informa o tipo de quarto que é oferecido\n",
        "* `price` - preço para alugar o imóvel\n",
        "* `minimum_nights` - quantidade mínima de noites para reservar\n",
        "* `number_of_reviews` - número de reviews que a propriedade possui\n",
        "* `last_review` - data do último review\n",
        "* `reviews_per_month` - quantidade de reviews por mês\n",
        "* `calculated_host_listings_count` - quantidade de imóveis do mesmo anfitrião\n",
        "* `availability_365` - número de dias de disponibilidade dentro de 365 dias\n",
        "\n",
        "Antes de iniciar qualquer análise, vamos verificar a cara do nosso *dataset*, analisando as 5 primeiras entradas."
      ]
    },
    {
      "cell_type": "code",
      "metadata": {
        "id": "2iS_dae7YQtO",
        "colab": {
          "base_uri": "https://localhost:8080/",
          "height": 583
        },
        "outputId": "621d0fa3-ebbc-4877-f271-eb38c26bb3f9"
      },
      "source": [
        "# mostrar as 5 primeiras entradas\n",
        "dfb.head()"
      ],
      "execution_count": 3,
      "outputs": [
        {
          "output_type": "execute_result",
          "data": {
            "text/plain": [
              "      id                                           name  host_id host_name  \\\n",
              "0   6283                                    Casa Al Sur    13310    Pamela   \n",
              "1  11508             Amazing Luxurious Apt-Palermo Soho    42762   Candela   \n",
              "2  12463            Room in Recoleta - awesome location    48799      Matt   \n",
              "3  13095  Standard Room at Palermo Viejo B&B w pvt Bath    50994     Ariel   \n",
              "4  13096             Standard Room in Palermo Viejo B&B    50994     Ariel   \n",
              "\n",
              "   neighbourhood_group neighbourhood  latitude  longitude        room_type  \\\n",
              "0                  NaN     Balvanera -34.60523  -58.41042  Entire home/apt   \n",
              "1                  NaN       Palermo -34.58184  -58.42415  Entire home/apt   \n",
              "2                  NaN      Recoleta -34.59777  -58.39664     Private room   \n",
              "3                  NaN       Palermo -34.59348  -58.42949     Private room   \n",
              "4                  NaN       Palermo -34.59348  -58.42949     Private room   \n",
              "\n",
              "   price  minimum_nights  number_of_reviews last_review  reviews_per_month  \\\n",
              "0   5113               3                  1  2011-01-31               0.01   \n",
              "1   6647               2                 27  2021-04-03               0.23   \n",
              "2   2761               1                 20  2017-12-11               0.14   \n",
              "3   2893               1                  1  2018-12-18               0.03   \n",
              "4   2893               1                  0         NaN                NaN   \n",
              "\n",
              "   calculated_host_listings_count  availability_365  number_of_reviews_ltm  \\\n",
              "0                               1               365                      0   \n",
              "1                               1               236                      1   \n",
              "2                               1                 0                      0   \n",
              "3                               7               365                      0   \n",
              "4                               7               365                      0   \n",
              "\n",
              "  license  \n",
              "0     NaN  \n",
              "1     NaN  \n",
              "2     NaN  \n",
              "3    9789  \n",
              "4     NaN  "
            ],
            "text/html": [
              "\n",
              "  <div id=\"df-5839fe7b-bc40-4ddc-ac1a-f1c813abba67\">\n",
              "    <div class=\"colab-df-container\">\n",
              "      <div>\n",
              "<style scoped>\n",
              "    .dataframe tbody tr th:only-of-type {\n",
              "        vertical-align: middle;\n",
              "    }\n",
              "\n",
              "    .dataframe tbody tr th {\n",
              "        vertical-align: top;\n",
              "    }\n",
              "\n",
              "    .dataframe thead th {\n",
              "        text-align: right;\n",
              "    }\n",
              "</style>\n",
              "<table border=\"1\" class=\"dataframe\">\n",
              "  <thead>\n",
              "    <tr style=\"text-align: right;\">\n",
              "      <th></th>\n",
              "      <th>id</th>\n",
              "      <th>name</th>\n",
              "      <th>host_id</th>\n",
              "      <th>host_name</th>\n",
              "      <th>neighbourhood_group</th>\n",
              "      <th>neighbourhood</th>\n",
              "      <th>latitude</th>\n",
              "      <th>longitude</th>\n",
              "      <th>room_type</th>\n",
              "      <th>price</th>\n",
              "      <th>minimum_nights</th>\n",
              "      <th>number_of_reviews</th>\n",
              "      <th>last_review</th>\n",
              "      <th>reviews_per_month</th>\n",
              "      <th>calculated_host_listings_count</th>\n",
              "      <th>availability_365</th>\n",
              "      <th>number_of_reviews_ltm</th>\n",
              "      <th>license</th>\n",
              "    </tr>\n",
              "  </thead>\n",
              "  <tbody>\n",
              "    <tr>\n",
              "      <th>0</th>\n",
              "      <td>6283</td>\n",
              "      <td>Casa Al Sur</td>\n",
              "      <td>13310</td>\n",
              "      <td>Pamela</td>\n",
              "      <td>NaN</td>\n",
              "      <td>Balvanera</td>\n",
              "      <td>-34.60523</td>\n",
              "      <td>-58.41042</td>\n",
              "      <td>Entire home/apt</td>\n",
              "      <td>5113</td>\n",
              "      <td>3</td>\n",
              "      <td>1</td>\n",
              "      <td>2011-01-31</td>\n",
              "      <td>0.01</td>\n",
              "      <td>1</td>\n",
              "      <td>365</td>\n",
              "      <td>0</td>\n",
              "      <td>NaN</td>\n",
              "    </tr>\n",
              "    <tr>\n",
              "      <th>1</th>\n",
              "      <td>11508</td>\n",
              "      <td>Amazing Luxurious Apt-Palermo Soho</td>\n",
              "      <td>42762</td>\n",
              "      <td>Candela</td>\n",
              "      <td>NaN</td>\n",
              "      <td>Palermo</td>\n",
              "      <td>-34.58184</td>\n",
              "      <td>-58.42415</td>\n",
              "      <td>Entire home/apt</td>\n",
              "      <td>6647</td>\n",
              "      <td>2</td>\n",
              "      <td>27</td>\n",
              "      <td>2021-04-03</td>\n",
              "      <td>0.23</td>\n",
              "      <td>1</td>\n",
              "      <td>236</td>\n",
              "      <td>1</td>\n",
              "      <td>NaN</td>\n",
              "    </tr>\n",
              "    <tr>\n",
              "      <th>2</th>\n",
              "      <td>12463</td>\n",
              "      <td>Room in Recoleta - awesome location</td>\n",
              "      <td>48799</td>\n",
              "      <td>Matt</td>\n",
              "      <td>NaN</td>\n",
              "      <td>Recoleta</td>\n",
              "      <td>-34.59777</td>\n",
              "      <td>-58.39664</td>\n",
              "      <td>Private room</td>\n",
              "      <td>2761</td>\n",
              "      <td>1</td>\n",
              "      <td>20</td>\n",
              "      <td>2017-12-11</td>\n",
              "      <td>0.14</td>\n",
              "      <td>1</td>\n",
              "      <td>0</td>\n",
              "      <td>0</td>\n",
              "      <td>NaN</td>\n",
              "    </tr>\n",
              "    <tr>\n",
              "      <th>3</th>\n",
              "      <td>13095</td>\n",
              "      <td>Standard Room at Palermo Viejo B&amp;B w pvt Bath</td>\n",
              "      <td>50994</td>\n",
              "      <td>Ariel</td>\n",
              "      <td>NaN</td>\n",
              "      <td>Palermo</td>\n",
              "      <td>-34.59348</td>\n",
              "      <td>-58.42949</td>\n",
              "      <td>Private room</td>\n",
              "      <td>2893</td>\n",
              "      <td>1</td>\n",
              "      <td>1</td>\n",
              "      <td>2018-12-18</td>\n",
              "      <td>0.03</td>\n",
              "      <td>7</td>\n",
              "      <td>365</td>\n",
              "      <td>0</td>\n",
              "      <td>9789</td>\n",
              "    </tr>\n",
              "    <tr>\n",
              "      <th>4</th>\n",
              "      <td>13096</td>\n",
              "      <td>Standard Room in Palermo Viejo B&amp;B</td>\n",
              "      <td>50994</td>\n",
              "      <td>Ariel</td>\n",
              "      <td>NaN</td>\n",
              "      <td>Palermo</td>\n",
              "      <td>-34.59348</td>\n",
              "      <td>-58.42949</td>\n",
              "      <td>Private room</td>\n",
              "      <td>2893</td>\n",
              "      <td>1</td>\n",
              "      <td>0</td>\n",
              "      <td>NaN</td>\n",
              "      <td>NaN</td>\n",
              "      <td>7</td>\n",
              "      <td>365</td>\n",
              "      <td>0</td>\n",
              "      <td>NaN</td>\n",
              "    </tr>\n",
              "  </tbody>\n",
              "</table>\n",
              "</div>\n",
              "      <button class=\"colab-df-convert\" onclick=\"convertToInteractive('df-5839fe7b-bc40-4ddc-ac1a-f1c813abba67')\"\n",
              "              title=\"Convert this dataframe to an interactive table.\"\n",
              "              style=\"display:none;\">\n",
              "        \n",
              "  <svg xmlns=\"http://www.w3.org/2000/svg\" height=\"24px\"viewBox=\"0 0 24 24\"\n",
              "       width=\"24px\">\n",
              "    <path d=\"M0 0h24v24H0V0z\" fill=\"none\"/>\n",
              "    <path d=\"M18.56 5.44l.94 2.06.94-2.06 2.06-.94-2.06-.94-.94-2.06-.94 2.06-2.06.94zm-11 1L8.5 8.5l.94-2.06 2.06-.94-2.06-.94L8.5 2.5l-.94 2.06-2.06.94zm10 10l.94 2.06.94-2.06 2.06-.94-2.06-.94-.94-2.06-.94 2.06-2.06.94z\"/><path d=\"M17.41 7.96l-1.37-1.37c-.4-.4-.92-.59-1.43-.59-.52 0-1.04.2-1.43.59L10.3 9.45l-7.72 7.72c-.78.78-.78 2.05 0 2.83L4 21.41c.39.39.9.59 1.41.59.51 0 1.02-.2 1.41-.59l7.78-7.78 2.81-2.81c.8-.78.8-2.07 0-2.86zM5.41 20L4 18.59l7.72-7.72 1.47 1.35L5.41 20z\"/>\n",
              "  </svg>\n",
              "      </button>\n",
              "      \n",
              "  <style>\n",
              "    .colab-df-container {\n",
              "      display:flex;\n",
              "      flex-wrap:wrap;\n",
              "      gap: 12px;\n",
              "    }\n",
              "\n",
              "    .colab-df-convert {\n",
              "      background-color: #E8F0FE;\n",
              "      border: none;\n",
              "      border-radius: 50%;\n",
              "      cursor: pointer;\n",
              "      display: none;\n",
              "      fill: #1967D2;\n",
              "      height: 32px;\n",
              "      padding: 0 0 0 0;\n",
              "      width: 32px;\n",
              "    }\n",
              "\n",
              "    .colab-df-convert:hover {\n",
              "      background-color: #E2EBFA;\n",
              "      box-shadow: 0px 1px 2px rgba(60, 64, 67, 0.3), 0px 1px 3px 1px rgba(60, 64, 67, 0.15);\n",
              "      fill: #174EA6;\n",
              "    }\n",
              "\n",
              "    [theme=dark] .colab-df-convert {\n",
              "      background-color: #3B4455;\n",
              "      fill: #D2E3FC;\n",
              "    }\n",
              "\n",
              "    [theme=dark] .colab-df-convert:hover {\n",
              "      background-color: #434B5C;\n",
              "      box-shadow: 0px 1px 3px 1px rgba(0, 0, 0, 0.15);\n",
              "      filter: drop-shadow(0px 1px 2px rgba(0, 0, 0, 0.3));\n",
              "      fill: #FFFFFF;\n",
              "    }\n",
              "  </style>\n",
              "\n",
              "      <script>\n",
              "        const buttonEl =\n",
              "          document.querySelector('#df-5839fe7b-bc40-4ddc-ac1a-f1c813abba67 button.colab-df-convert');\n",
              "        buttonEl.style.display =\n",
              "          google.colab.kernel.accessAllowed ? 'block' : 'none';\n",
              "\n",
              "        async function convertToInteractive(key) {\n",
              "          const element = document.querySelector('#df-5839fe7b-bc40-4ddc-ac1a-f1c813abba67');\n",
              "          const dataTable =\n",
              "            await google.colab.kernel.invokeFunction('convertToInteractive',\n",
              "                                                     [key], {});\n",
              "          if (!dataTable) return;\n",
              "\n",
              "          const docLinkHtml = 'Like what you see? Visit the ' +\n",
              "            '<a target=\"_blank\" href=https://colab.research.google.com/notebooks/data_table.ipynb>data table notebook</a>'\n",
              "            + ' to learn more about interactive tables.';\n",
              "          element.innerHTML = '';\n",
              "          dataTable['output_type'] = 'display_data';\n",
              "          await google.colab.output.renderOutput(dataTable, element);\n",
              "          const docLink = document.createElement('div');\n",
              "          docLink.innerHTML = docLinkHtml;\n",
              "          element.appendChild(docLink);\n",
              "        }\n",
              "      </script>\n",
              "    </div>\n",
              "  </div>\n",
              "  "
            ]
          },
          "metadata": {},
          "execution_count": 3
        }
      ]
    },
    {
      "cell_type": "markdown",
      "metadata": {
        "id": "6-B_qtEaYEd-"
      },
      "source": [
        "### **1. Quantos atributos (variáveis) e quantas entradas o nosso conjunto de dados possui? Quais os tipos das variáveis?**\n",
        "\n",
        "Vamos prosseguir e identificar a quantidade de entradas que nosso conjunto de dados possui e ver os tipos de cada coluna.\n",
        "\n",
        "Este *dataset* que baixamos é a versão \"resumida\" do Airbnb. Na mesma página que baixamos o arquivo `listings.csv`. Há uma versão mais completa com 35847 entradas e 106 variáveis (`listings.csv.gz`)."
      ]
    },
    {
      "cell_type": "code",
      "metadata": {
        "id": "TFRK0tniLV-G",
        "colab": {
          "base_uri": "https://localhost:8080/",
          "height": 399
        },
        "outputId": "dfc3e078-81a3-4d11-840a-2d348eec75e6"
      },
      "source": [
        "# identificar o volume de dados do DataFrame\n",
        "print(\"Número de entradas:\\t {}\".format(dfb.shape[0]))\n",
        "print(\"Número de variáveis:\\t {}\\n\".format(dfb.shape[1]))\n",
        "# verificar os tipos de dados do dataset\n",
        "display(dfb.dtypes)\n"
      ],
      "execution_count": 16,
      "outputs": [
        {
          "output_type": "stream",
          "name": "stdout",
          "text": [
            "Número de entradas:\t 17318\n",
            "Número de variáveis:\t 18\n",
            "\n"
          ]
        },
        {
          "output_type": "display_data",
          "data": {
            "text/plain": [
              "id                                  int64\n",
              "name                               object\n",
              "host_id                             int64\n",
              "host_name                          object\n",
              "neighbourhood_group               float64\n",
              "neighbourhood                      object\n",
              "latitude                          float64\n",
              "longitude                         float64\n",
              "room_type                          object\n",
              "price                               int64\n",
              "minimum_nights                      int64\n",
              "number_of_reviews                   int64\n",
              "last_review                        object\n",
              "reviews_per_month                 float64\n",
              "calculated_host_listings_count      int64\n",
              "availability_365                    int64\n",
              "number_of_reviews_ltm               int64\n",
              "license                            object\n",
              "dtype: object"
            ]
          },
          "metadata": {}
        }
      ]
    },
    {
      "cell_type": "markdown",
      "metadata": {
        "id": "yz1urSUGW9iE"
      },
      "source": [
        "### **2. Qual a porcentagem de valores ausentes no *dataset*?**\n",
        "\n",
        "A qualidade de um *dataset* está diretamente relacionada à quantidade de valores ausentes. É importante entender logo no início se esses valores nulos são significativos comparados ao total de entradas.\n",
        "\n",
        "* É possível ver que a coluna `neighbourhood_group` possui 100% dos seus valores faltantes. \n",
        "* As variáveis `reviews_per_month` e `last_review` possuem valores nulos em quase metade das linhas.\n",
        "* As variáveis `name` e `host_name` têm aproximadamente 0,1% dos valores nulos."
      ]
    },
    {
      "cell_type": "code",
      "metadata": {
        "id": "plk2FjbCXOqP",
        "colab": {
          "base_uri": "https://localhost:8080/"
        },
        "outputId": "3a2cc918-6fcb-4e5e-f452-f7b6a15bd9f2"
      },
      "source": [
        "# ordenar em ordem decrescente as variáveis por seus valores ausentes\n",
        "(dfb.isnull().sum() / dfb.shape[0]).sort_values(ascending = False)\n"
      ],
      "execution_count": 23,
      "outputs": [
        {
          "output_type": "execute_result",
          "data": {
            "text/plain": [
              "neighbourhood_group               1.000000\n",
              "license                           0.986026\n",
              "reviews_per_month                 0.302575\n",
              "last_review                       0.302575\n",
              "host_name                         0.000751\n",
              "name                              0.000289\n",
              "number_of_reviews                 0.000000\n",
              "number_of_reviews_ltm             0.000000\n",
              "availability_365                  0.000000\n",
              "calculated_host_listings_count    0.000000\n",
              "id                                0.000000\n",
              "minimum_nights                    0.000000\n",
              "room_type                         0.000000\n",
              "longitude                         0.000000\n",
              "latitude                          0.000000\n",
              "neighbourhood                     0.000000\n",
              "host_id                           0.000000\n",
              "price                             0.000000\n",
              "dtype: float64"
            ]
          },
          "metadata": {},
          "execution_count": 23
        }
      ]
    },
    {
      "cell_type": "markdown",
      "metadata": {
        "id": "iHXvvHIxaoNc"
      },
      "source": [
        "### **3. Qual o tipo de distribuição das variáveis?** \n",
        "\n",
        "Para identificar a distribuição das variáveis, irei plotar o histograma."
      ]
    },
    {
      "cell_type": "code",
      "metadata": {
        "id": "q2wWSfeRbmBo",
        "colab": {
          "base_uri": "https://localhost:8080/",
          "height": 607
        },
        "outputId": "e42e0861-81b5-41b0-d625-410b8f4734b7"
      },
      "source": [
        "# plotar o histograma das variáveis numéricas\n",
        "dfb.hist(bins=20, figsize=(15,10));"
      ],
      "execution_count": 52,
      "outputs": [
        {
          "output_type": "display_data",
          "data": {
            "text/plain": [
              "<Figure size 1080x720 with 12 Axes>"
            ],
            "image/png": "[encoded data removed]"
          },
          "metadata": {
            "needs_background": "light"
          }
        }
      ]
    },
    {
      "cell_type": "markdown",
      "source": [
        "### **4. Há *outliers* presentes?**"
      ],
      "metadata": {
        "id": "TL2G9r-v2vM8"
      }
    },
    {
      "cell_type": "markdown",
      "source": [
        "Pela distribuição do histograma, é possível verificar indícios da presença de *outliers*. Olhe por exemplo as variáveis `price`, `minimum_nights` e `calculated_host_listings_count`.\n",
        "\n",
        "Os valores não seguem uma distruição, e distorcem toda a representação gráfica. Para confirmar, há duas maneiras rápidas que auxiliam a detecção de *outliers*. São elas:\n",
        "\n",
        "* Resumo estatístico por meio do método `describe()`\n",
        "* Plotar `boxplots` para a variável."
      ],
      "metadata": {
        "id": "B1AexEFK3KSI"
      }
    },
    {
      "cell_type": "code",
      "source": [
        "dfb[['price', 'minimum_nights', 'number_of_reviews', 'reviews_per_month',\n",
        "    'calculated_host_listings_count', 'availability_365']].describe()"
      ],
      "metadata": {
        "colab": {
          "base_uri": "https://localhost:8080/",
          "height": 300
        },
        "id": "PGQ8v_a-3SYe",
        "outputId": "f2860865-6234-43d9-b800-abaebcb6fd88"
      },
      "execution_count": 124,
      "outputs": [
        {
          "output_type": "execute_result",
          "data": {
            "text/plain": [
              "              price  minimum_nights  number_of_reviews  reviews_per_month  \\\n",
              "count  1.731800e+04    17318.000000       17318.000000       12078.000000   \n",
              "mean   6.587419e+03        7.508719          17.242118           0.669376   \n",
              "std    3.207039e+04       24.491571          34.802116           0.839172   \n",
              "min    0.000000e+00        1.000000           0.000000           0.010000   \n",
              "25%    2.162000e+03        2.000000           0.000000           0.120000   \n",
              "50%    3.500000e+03        3.000000           3.000000           0.365000   \n",
              "75%    5.624000e+03        5.000000          18.000000           0.930000   \n",
              "max    1.022578e+06     1000.000000         512.000000          12.730000   \n",
              "\n",
              "       calculated_host_listings_count  availability_365  \n",
              "count                    17318.000000      17318.000000  \n",
              "mean                         8.001155        223.724044  \n",
              "std                         18.914734        125.834745  \n",
              "min                          1.000000          0.000000  \n",
              "25%                          1.000000         90.000000  \n",
              "50%                          2.000000        251.000000  \n",
              "75%                          4.000000        353.000000  \n",
              "max                        137.000000        365.000000  "
            ],
            "text/html": [
              "\n",
              "  <div id=\"df-6ad7e928-4588-445e-996e-a7e27f71bfc2\">\n",
              "    <div class=\"colab-df-container\">\n",
              "      <div>\n",
              "<style scoped>\n",
              "    .dataframe tbody tr th:only-of-type {\n",
              "        vertical-align: middle;\n",
              "    }\n",
              "\n",
              "    .dataframe tbody tr th {\n",
              "        vertical-align: top;\n",
              "    }\n",
              "\n",
              "    .dataframe thead th {\n",
              "        text-align: right;\n",
              "    }\n",
              "</style>\n",
              "<table border=\"1\" class=\"dataframe\">\n",
              "  <thead>\n",
              "    <tr style=\"text-align: right;\">\n",
              "      <th></th>\n",
              "      <th>price</th>\n",
              "      <th>minimum_nights</th>\n",
              "      <th>number_of_reviews</th>\n",
              "      <th>reviews_per_month</th>\n",
              "      <th>calculated_host_listings_count</th>\n",
              "      <th>availability_365</th>\n",
              "    </tr>\n",
              "  </thead>\n",
              "  <tbody>\n",
              "    <tr>\n",
              "      <th>count</th>\n",
              "      <td>1.731800e+04</td>\n",
              "      <td>17318.000000</td>\n",
              "      <td>17318.000000</td>\n",
              "      <td>12078.000000</td>\n",
              "      <td>17318.000000</td>\n",
              "      <td>17318.000000</td>\n",
              "    </tr>\n",
              "    <tr>\n",
              "      <th>mean</th>\n",
              "      <td>6.587419e+03</td>\n",
              "      <td>7.508719</td>\n",
              "      <td>17.242118</td>\n",
              "      <td>0.669376</td>\n",
              "      <td>8.001155</td>\n",
              "      <td>223.724044</td>\n",
              "    </tr>\n",
              "    <tr>\n",
              "      <th>std</th>\n",
              "      <td>3.207039e+04</td>\n",
              "      <td>24.491571</td>\n",
              "      <td>34.802116</td>\n",
              "      <td>0.839172</td>\n",
              "      <td>18.914734</td>\n",
              "      <td>125.834745</td>\n",
              "    </tr>\n",
              "    <tr>\n",
              "      <th>min</th>\n",
              "      <td>0.000000e+00</td>\n",
              "      <td>1.000000</td>\n",
              "      <td>0.000000</td>\n",
              "      <td>0.010000</td>\n",
              "      <td>1.000000</td>\n",
              "      <td>0.000000</td>\n",
              "    </tr>\n",
              "    <tr>\n",
              "      <th>25%</th>\n",
              "      <td>2.162000e+03</td>\n",
              "      <td>2.000000</td>\n",
              "      <td>0.000000</td>\n",
              "      <td>0.120000</td>\n",
              "      <td>1.000000</td>\n",
              "      <td>90.000000</td>\n",
              "    </tr>\n",
              "    <tr>\n",
              "      <th>50%</th>\n",
              "      <td>3.500000e+03</td>\n",
              "      <td>3.000000</td>\n",
              "      <td>3.000000</td>\n",
              "      <td>0.365000</td>\n",
              "      <td>2.000000</td>\n",
              "      <td>251.000000</td>\n",
              "    </tr>\n",
              "    <tr>\n",
              "      <th>75%</th>\n",
              "      <td>5.624000e+03</td>\n",
              "      <td>5.000000</td>\n",
              "      <td>18.000000</td>\n",
              "      <td>0.930000</td>\n",
              "      <td>4.000000</td>\n",
              "      <td>353.000000</td>\n",
              "    </tr>\n",
              "    <tr>\n",
              "      <th>max</th>\n",
              "      <td>1.022578e+06</td>\n",
              "      <td>1000.000000</td>\n",
              "      <td>512.000000</td>\n",
              "      <td>12.730000</td>\n",
              "      <td>137.000000</td>\n",
              "      <td>365.000000</td>\n",
              "    </tr>\n",
              "  </tbody>\n",
              "</table>\n",
              "</div>\n",
              "      <button class=\"colab-df-convert\" onclick=\"convertToInteractive('df-6ad7e928-4588-445e-996e-a7e27f71bfc2')\"\n",
              "              title=\"Convert this dataframe to an interactive table.\"\n",
              "              style=\"display:none;\">\n",
              "        \n",
              "  <svg xmlns=\"http://www.w3.org/2000/svg\" height=\"24px\"viewBox=\"0 0 24 24\"\n",
              "       width=\"24px\">\n",
              "    <path d=\"M0 0h24v24H0V0z\" fill=\"none\"/>\n",
              "    <path d=\"M18.56 5.44l.94 2.06.94-2.06 2.06-.94-2.06-.94-.94-2.06-.94 2.06-2.06.94zm-11 1L8.5 8.5l.94-2.06 2.06-.94-2.06-.94L8.5 2.5l-.94 2.06-2.06.94zm10 10l.94 2.06.94-2.06 2.06-.94-2.06-.94-.94-2.06-.94 2.06-2.06.94z\"/><path d=\"M17.41 7.96l-1.37-1.37c-.4-.4-.92-.59-1.43-.59-.52 0-1.04.2-1.43.59L10.3 9.45l-7.72 7.72c-.78.78-.78 2.05 0 2.83L4 21.41c.39.39.9.59 1.41.59.51 0 1.02-.2 1.41-.59l7.78-7.78 2.81-2.81c.8-.78.8-2.07 0-2.86zM5.41 20L4 18.59l7.72-7.72 1.47 1.35L5.41 20z\"/>\n",
              "  </svg>\n",
              "      </button>\n",
              "      \n",
              "  <style>\n",
              "    .colab-df-container {\n",
              "      display:flex;\n",
              "      flex-wrap:wrap;\n",
              "      gap: 12px;\n",
              "    }\n",
              "\n",
              "    .colab-df-convert {\n",
              "      background-color: #E8F0FE;\n",
              "      border: none;\n",
              "      border-radius: 50%;\n",
              "      cursor: pointer;\n",
              "      display: none;\n",
              "      fill: #1967D2;\n",
              "      height: 32px;\n",
              "      padding: 0 0 0 0;\n",
              "      width: 32px;\n",
              "    }\n",
              "\n",
              "    .colab-df-convert:hover {\n",
              "      background-color: #E2EBFA;\n",
              "      box-shadow: 0px 1px 2px rgba(60, 64, 67, 0.3), 0px 1px 3px 1px rgba(60, 64, 67, 0.15);\n",
              "      fill: #174EA6;\n",
              "    }\n",
              "\n",
              "    [theme=dark] .colab-df-convert {\n",
              "      background-color: #3B4455;\n",
              "      fill: #D2E3FC;\n",
              "    }\n",
              "\n",
              "    [theme=dark] .colab-df-convert:hover {\n",
              "      background-color: #434B5C;\n",
              "      box-shadow: 0px 1px 3px 1px rgba(0, 0, 0, 0.15);\n",
              "      filter: drop-shadow(0px 1px 2px rgba(0, 0, 0, 0.3));\n",
              "      fill: #FFFFFF;\n",
              "    }\n",
              "  </style>\n",
              "\n",
              "      <script>\n",
              "        const buttonEl =\n",
              "          document.querySelector('#df-6ad7e928-4588-445e-996e-a7e27f71bfc2 button.colab-df-convert');\n",
              "        buttonEl.style.display =\n",
              "          google.colab.kernel.accessAllowed ? 'block' : 'none';\n",
              "\n",
              "        async function convertToInteractive(key) {\n",
              "          const element = document.querySelector('#df-6ad7e928-4588-445e-996e-a7e27f71bfc2');\n",
              "          const dataTable =\n",
              "            await google.colab.kernel.invokeFunction('convertToInteractive',\n",
              "                                                     [key], {});\n",
              "          if (!dataTable) return;\n",
              "\n",
              "          const docLinkHtml = 'Like what you see? Visit the ' +\n",
              "            '<a target=\"_blank\" href=https://colab.research.google.com/notebooks/data_table.ipynb>data table notebook</a>'\n",
              "            + ' to learn more about interactive tables.';\n",
              "          element.innerHTML = '';\n",
              "          dataTable['output_type'] = 'display_data';\n",
              "          await google.colab.output.renderOutput(dataTable, element);\n",
              "          const docLink = document.createElement('div');\n",
              "          docLink.innerHTML = docLinkHtml;\n",
              "          element.appendChild(docLink);\n",
              "        }\n",
              "      </script>\n",
              "    </div>\n",
              "  </div>\n",
              "  "
            ]
          },
          "metadata": {},
          "execution_count": 124
        }
      ]
    },
    {
      "cell_type": "markdown",
      "source": [
        "Olhando o resumo estatístico acima, podemos confirmar algumas hipóteses como:\n",
        "\n",
        "* A variável `price` possui 75% do valor abaixo de 5.624000e+03, porém seu valor máximo é 1.022578e+06.\n",
        "* A quantidade mínima de noites (`minimum_nights`) está acima de 365 dias no ano.\n",
        "\n",
        "#### Boxplot para minimum_nights"
      ],
      "metadata": {
        "id": "R22iXxvF3qKM"
      }
    },
    {
      "cell_type": "code",
      "source": [
        "# minimum_nights\n",
        "dfb.minimum_nights.plot(kind='box', vert=False, figsize=(15,3))\n",
        "plt.show()\n",
        "# ver quantidade de valores acima de 30 dias para minimum_nights\n",
        "print(\"\\nminimum_nights: valores acima de 30\")\n",
        "print(\"{} entradas\".format(len(dfb[dfb.minimum_nights > 30])))\n",
        "print(\"{:.4f}%\".format((len(dfb[dfb.minimum_nights > 30]) / dfb.shape[0])*100))"
      ],
      "metadata": {
        "colab": {
          "base_uri": "https://localhost:8080/",
          "height": 280
        },
        "id": "BqeijTpt30Gu",
        "outputId": "50de626a-8bb8-455e-b04f-15bd79d7d6ff"
      },
      "execution_count": 72,
      "outputs": [
        {
          "output_type": "display_data",
          "data": {
            "text/plain": [
              "<Figure size 1080x216 with 1 Axes>"
            ],
            "image/png": "[encoded data removed]"
          },
          "metadata": {
            "needs_background": "light"
          }
        },
        {
          "output_type": "stream",
          "name": "stdout",
          "text": [
            "\n",
            "minimum_nights: valores acima de 30\n",
            "403 entradas\n",
            "2.3271%\n"
          ]
        }
      ]
    },
    {
      "cell_type": "markdown",
      "source": [
        "#### Boxplot para price"
      ],
      "metadata": {
        "id": "ACvfhUIg60yz"
      }
    },
    {
      "cell_type": "code",
      "source": [
        "# price\n",
        "dfb.price.plot(kind='box', vert=False, figsize=(15, 3),)\n",
        "plt.show()\n",
        "\n",
        "# ver quantidade de valores acima de 1500 para price\n",
        "print(\"\\nprice: valores acima de 1500\")\n",
        "print(\"{} entradas\".format(len(dfb[dfb.price > 1500])))\n",
        "print(\"{:.4f}%\".format((len(dfb[dfb.price > 1500]) / dfb.shape[0])*100))"
      ],
      "metadata": {
        "colab": {
          "base_uri": "https://localhost:8080/",
          "height": 293
        },
        "id": "OowNRWQ86-2z",
        "outputId": "d1d98ce9-00a5-4ebf-a0f9-459c88e2ec10"
      },
      "execution_count": 76,
      "outputs": [
        {
          "output_type": "display_data",
          "data": {
            "text/plain": [
              "<Figure size 1080x216 with 1 Axes>"
            ],
            "image/png": "[encoded data removed]"
          },
          "metadata": {
            "needs_background": "light"
          }
        },
        {
          "output_type": "stream",
          "name": "stdout",
          "text": [
            "\n",
            "price: valores acima de 1500\n",
            "15371 entradas\n",
            "88.7574%\n"
          ]
        }
      ]
    },
    {
      "cell_type": "markdown",
      "source": [
        "#### Histogramas sem *outliers*\n",
        "\n",
        "Já que identificamos *outliers* nas variáveis `price` e `minimum_nights`, vamos agora limpar o *DataFrame* delas e plotar novamente o histograma."
      ],
      "metadata": {
        "id": "-lU45mL17Tma"
      }
    },
    {
      "cell_type": "code",
      "source": [
        "# remover os *outliers* em um novo DataFrame\n",
        "dfb_clean = dfb.copy()\n",
        "dfb_clean.drop(dfb_clean[dfb_clean.price > 1500].index, axis=0, inplace=True)\n",
        "dfb_clean.drop(dfb_clean[dfb_clean.minimum_nights > 30].index, axis=0, inplace=True)\n",
        "\n",
        "# remover `neighbourhood_group`, pois está vazio\n",
        "dfb_clean.drop('neighbourhood_group', axis=1, inplace=True)\n",
        "\n",
        "# plotar o histograma para as variáveis numéricas\n",
        "dfb_clean.hist(bins=15, figsize=(15,10));"
      ],
      "metadata": {
        "colab": {
          "base_uri": "https://localhost:8080/",
          "height": 607
        },
        "id": "2ygMe7Pa7X5G",
        "outputId": "f3c3503c-f4e7-4b89-fdce-091f5280e184"
      },
      "execution_count": 77,
      "outputs": [
        {
          "output_type": "display_data",
          "data": {
            "text/plain": [
              "<Figure size 1080x720 with 12 Axes>"
            ],
            "image/png": "[encoded data removed]"
          },
          "metadata": {
            "needs_background": "light"
          }
        }
      ]
    },
    {
      "cell_type": "markdown",
      "metadata": {
        "id": "7x4aw1j5wNmn"
      },
      "source": [
        "### **5. Qual a média dos preços de aluguel?**"
      ]
    },
    {
      "cell_type": "code",
      "metadata": {
        "id": "ff-8gUahLk-C",
        "colab": {
          "base_uri": "https://localhost:8080/"
        },
        "outputId": "4f5b48ee-ec9e-4c9b-8e00-1e7427b92946"
      },
      "source": [
        "# ver a média da coluna `price``\n",
        "dfb_clean.price.mean()"
      ],
      "execution_count": 81,
      "outputs": [
        {
          "output_type": "execute_result",
          "data": {
            "text/plain": [
              "1124.567581837381"
            ]
          },
          "metadata": {},
          "execution_count": 81
        }
      ]
    },
    {
      "cell_type": "markdown",
      "metadata": {
        "id": "IXn2oIo5qx-w"
      },
      "source": [
        "### **6. Qual a correlação existente entre as variáveis**\n",
        "\n",
        "Correlação significa que existe uma relação entre duas coisas. No nosso contexto, estamos buscando relação ou semelhança entre duas variáveis.\n",
        "\n",
        "Essa relação pode ser medida, e é função do coeficiente de correlação estabelecer qual a intensidade dela. Para identificar as correlações existentes entre as variáveis de interesse, vou:\n",
        "\n",
        "* Criar uma matriz de correlação\n",
        "* Gerar um *heatmap* a partir dessa matriz, usando a biblioteca `seaborn`"
      ]
    },
    {
      "cell_type": "code",
      "metadata": {
        "id": "x2ayzBajqxyd",
        "colab": {
          "base_uri": "https://localhost:8080/",
          "height": 238
        },
        "outputId": "71ad3448-55cd-4854-f7e1-e9d74a4df8de"
      },
      "source": [
        "# criar uma matriz de correlação\n",
        "corr = dfb_clean[['price', 'minimum_nights', 'number_of_reviews', 'reviews_per_month',\n",
        "    'calculated_host_listings_count', 'availability_365']].corr()\n",
        "\n",
        "# mostrar a matriz de correlação\n",
        "display(corr)"
      ],
      "execution_count": 86,
      "outputs": [
        {
          "output_type": "display_data",
          "data": {
            "text/plain": [
              "                                   price  minimum_nights  number_of_reviews  \\\n",
              "price                           1.000000        0.006238           0.114922   \n",
              "minimum_nights                  0.006238        1.000000          -0.050319   \n",
              "number_of_reviews               0.114922       -0.050319           1.000000   \n",
              "reviews_per_month               0.142890       -0.075679           0.820996   \n",
              "calculated_host_listings_count -0.036049        0.071610          -0.031372   \n",
              "availability_365               -0.083915       -0.025916          -0.113985   \n",
              "\n",
              "                                reviews_per_month  \\\n",
              "price                                    0.142890   \n",
              "minimum_nights                          -0.075679   \n",
              "number_of_reviews                        0.820996   \n",
              "reviews_per_month                        1.000000   \n",
              "calculated_host_listings_count          -0.085456   \n",
              "availability_365                        -0.122023   \n",
              "\n",
              "                                calculated_host_listings_count  \\\n",
              "price                                                -0.036049   \n",
              "minimum_nights                                        0.071610   \n",
              "number_of_reviews                                    -0.031372   \n",
              "reviews_per_month                                    -0.085456   \n",
              "calculated_host_listings_count                        1.000000   \n",
              "availability_365                                      0.095112   \n",
              "\n",
              "                                availability_365  \n",
              "price                                  -0.083915  \n",
              "minimum_nights                         -0.025916  \n",
              "number_of_reviews                      -0.113985  \n",
              "reviews_per_month                      -0.122023  \n",
              "calculated_host_listings_count          0.095112  \n",
              "availability_365                        1.000000  "
            ],
            "text/html": [
              "\n",
              "  <div id=\"df-9b29d302-86ef-4338-9e88-566f83d58315\">\n",
              "    <div class=\"colab-df-container\">\n",
              "      <div>\n",
              "<style scoped>\n",
              "    .dataframe tbody tr th:only-of-type {\n",
              "        vertical-align: middle;\n",
              "    }\n",
              "\n",
              "    .dataframe tbody tr th {\n",
              "        vertical-align: top;\n",
              "    }\n",
              "\n",
              "    .dataframe thead th {\n",
              "        text-align: right;\n",
              "    }\n",
              "</style>\n",
              "<table border=\"1\" class=\"dataframe\">\n",
              "  <thead>\n",
              "    <tr style=\"text-align: right;\">\n",
              "      <th></th>\n",
              "      <th>price</th>\n",
              "      <th>minimum_nights</th>\n",
              "      <th>number_of_reviews</th>\n",
              "      <th>reviews_per_month</th>\n",
              "      <th>calculated_host_listings_count</th>\n",
              "      <th>availability_365</th>\n",
              "    </tr>\n",
              "  </thead>\n",
              "  <tbody>\n",
              "    <tr>\n",
              "      <th>price</th>\n",
              "      <td>1.000000</td>\n",
              "      <td>0.006238</td>\n",
              "      <td>0.114922</td>\n",
              "      <td>0.142890</td>\n",
              "      <td>-0.036049</td>\n",
              "      <td>-0.083915</td>\n",
              "    </tr>\n",
              "    <tr>\n",
              "      <th>minimum_nights</th>\n",
              "      <td>0.006238</td>\n",
              "      <td>1.000000</td>\n",
              "      <td>-0.050319</td>\n",
              "      <td>-0.075679</td>\n",
              "      <td>0.071610</td>\n",
              "      <td>-0.025916</td>\n",
              "    </tr>\n",
              "    <tr>\n",
              "      <th>number_of_reviews</th>\n",
              "      <td>0.114922</td>\n",
              "      <td>-0.050319</td>\n",
              "      <td>1.000000</td>\n",
              "      <td>0.820996</td>\n",
              "      <td>-0.031372</td>\n",
              "      <td>-0.113985</td>\n",
              "    </tr>\n",
              "    <tr>\n",
              "      <th>reviews_per_month</th>\n",
              "      <td>0.142890</td>\n",
              "      <td>-0.075679</td>\n",
              "      <td>0.820996</td>\n",
              "      <td>1.000000</td>\n",
              "      <td>-0.085456</td>\n",
              "      <td>-0.122023</td>\n",
              "    </tr>\n",
              "    <tr>\n",
              "      <th>calculated_host_listings_count</th>\n",
              "      <td>-0.036049</td>\n",
              "      <td>0.071610</td>\n",
              "      <td>-0.031372</td>\n",
              "      <td>-0.085456</td>\n",
              "      <td>1.000000</td>\n",
              "      <td>0.095112</td>\n",
              "    </tr>\n",
              "    <tr>\n",
              "      <th>availability_365</th>\n",
              "      <td>-0.083915</td>\n",
              "      <td>-0.025916</td>\n",
              "      <td>-0.113985</td>\n",
              "      <td>-0.122023</td>\n",
              "      <td>0.095112</td>\n",
              "      <td>1.000000</td>\n",
              "    </tr>\n",
              "  </tbody>\n",
              "</table>\n",
              "</div>\n",
              "      <button class=\"colab-df-convert\" onclick=\"convertToInteractive('df-9b29d302-86ef-4338-9e88-566f83d58315')\"\n",
              "              title=\"Convert this dataframe to an interactive table.\"\n",
              "              style=\"display:none;\">\n",
              "        \n",
              "  <svg xmlns=\"http://www.w3.org/2000/svg\" height=\"24px\"viewBox=\"0 0 24 24\"\n",
              "       width=\"24px\">\n",
              "    <path d=\"M0 0h24v24H0V0z\" fill=\"none\"/>\n",
              "    <path d=\"M18.56 5.44l.94 2.06.94-2.06 2.06-.94-2.06-.94-.94-2.06-.94 2.06-2.06.94zm-11 1L8.5 8.5l.94-2.06 2.06-.94-2.06-.94L8.5 2.5l-.94 2.06-2.06.94zm10 10l.94 2.06.94-2.06 2.06-.94-2.06-.94-.94-2.06-.94 2.06-2.06.94z\"/><path d=\"M17.41 7.96l-1.37-1.37c-.4-.4-.92-.59-1.43-.59-.52 0-1.04.2-1.43.59L10.3 9.45l-7.72 7.72c-.78.78-.78 2.05 0 2.83L4 21.41c.39.39.9.59 1.41.59.51 0 1.02-.2 1.41-.59l7.78-7.78 2.81-2.81c.8-.78.8-2.07 0-2.86zM5.41 20L4 18.59l7.72-7.72 1.47 1.35L5.41 20z\"/>\n",
              "  </svg>\n",
              "      </button>\n",
              "      \n",
              "  <style>\n",
              "    .colab-df-container {\n",
              "      display:flex;\n",
              "      flex-wrap:wrap;\n",
              "      gap: 12px;\n",
              "    }\n",
              "\n",
              "    .colab-df-convert {\n",
              "      background-color: #E8F0FE;\n",
              "      border: none;\n",
              "      border-radius: 50%;\n",
              "      cursor: pointer;\n",
              "      display: none;\n",
              "      fill: #1967D2;\n",
              "      height: 32px;\n",
              "      padding: 0 0 0 0;\n",
              "      width: 32px;\n",
              "    }\n",
              "\n",
              "    .colab-df-convert:hover {\n",
              "      background-color: #E2EBFA;\n",
              "      box-shadow: 0px 1px 2px rgba(60, 64, 67, 0.3), 0px 1px 3px 1px rgba(60, 64, 67, 0.15);\n",
              "      fill: #174EA6;\n",
              "    }\n",
              "\n",
              "    [theme=dark] .colab-df-convert {\n",
              "      background-color: #3B4455;\n",
              "      fill: #D2E3FC;\n",
              "    }\n",
              "\n",
              "    [theme=dark] .colab-df-convert:hover {\n",
              "      background-color: #434B5C;\n",
              "      box-shadow: 0px 1px 3px 1px rgba(0, 0, 0, 0.15);\n",
              "      filter: drop-shadow(0px 1px 2px rgba(0, 0, 0, 0.3));\n",
              "      fill: #FFFFFF;\n",
              "    }\n",
              "  </style>\n",
              "\n",
              "      <script>\n",
              "        const buttonEl =\n",
              "          document.querySelector('#df-9b29d302-86ef-4338-9e88-566f83d58315 button.colab-df-convert');\n",
              "        buttonEl.style.display =\n",
              "          google.colab.kernel.accessAllowed ? 'block' : 'none';\n",
              "\n",
              "        async function convertToInteractive(key) {\n",
              "          const element = document.querySelector('#df-9b29d302-86ef-4338-9e88-566f83d58315');\n",
              "          const dataTable =\n",
              "            await google.colab.kernel.invokeFunction('convertToInteractive',\n",
              "                                                     [key], {});\n",
              "          if (!dataTable) return;\n",
              "\n",
              "          const docLinkHtml = 'Like what you see? Visit the ' +\n",
              "            '<a target=\"_blank\" href=https://colab.research.google.com/notebooks/data_table.ipynb>data table notebook</a>'\n",
              "            + ' to learn more about interactive tables.';\n",
              "          element.innerHTML = '';\n",
              "          dataTable['output_type'] = 'display_data';\n",
              "          await google.colab.output.renderOutput(dataTable, element);\n",
              "          const docLink = document.createElement('div');\n",
              "          docLink.innerHTML = docLinkHtml;\n",
              "          element.appendChild(docLink);\n",
              "        }\n",
              "      </script>\n",
              "    </div>\n",
              "  </div>\n",
              "  "
            ]
          },
          "metadata": {}
        }
      ]
    },
    {
      "cell_type": "code",
      "metadata": {
        "id": "91UujDr6ueqE",
        "colab": {
          "base_uri": "https://localhost:8080/",
          "height": 411
        },
        "outputId": "78521694-dc5b-4d12-c376-d230bb3f2ec1"
      },
      "source": [
        "# plotar um heatmap a partir das correlações\n",
        "sns.heatmap(corr, cmap='RdBu', fmt='.2f', square=True, linecolor='white', annot=True);"
      ],
      "execution_count": 98,
      "outputs": [
        {
          "output_type": "display_data",
          "data": {
            "text/plain": [
              "<Figure size 432x288 with 2 Axes>"
            ],
            "image/png": "[encoded data removed]"
          },
          "metadata": {
            "needs_background": "light"
          }
        }
      ]
    },
    {
      "cell_type": "markdown",
      "metadata": {
        "id": "7b6RMWpuHKN-"
      },
      "source": [
        "### **7. Qual o tipo de imóvel mais alugado no Airbnb?**\n",
        "\n",
        "A coluna da variável `room_type` indica o tipo de locação que está anunciada no Airbnb. Se você já alugou no site, sabe que existem opções de apartamentos/casas inteiras, apenas o aluguel de um quarto ou mesmo dividir o quarto com outras pessoas.\n",
        "\n",
        "Vamos contar a quantidade de ocorrências de cada tipo de aluguel, usando o método `value_counts()`."
      ]
    },
    {
      "cell_type": "code",
      "metadata": {
        "id": "ueLPNWvPHgfB",
        "colab": {
          "base_uri": "https://localhost:8080/"
        },
        "outputId": "b61e1812-39ce-43a7-fe64-f5afab83f827"
      },
      "source": [
        "# mostrar a quantidade de cada tipo de imóvel disponível\n",
        "dfb_clean.room_type.value_counts()"
      ],
      "execution_count": 99,
      "outputs": [
        {
          "output_type": "execute_result",
          "data": {
            "text/plain": [
              "Private room       1198\n",
              "Entire home/apt     419\n",
              "Shared room         221\n",
              "Hotel room           56\n",
              "Name: room_type, dtype: int64"
            ]
          },
          "metadata": {},
          "execution_count": 99
        }
      ]
    },
    {
      "cell_type": "code",
      "metadata": {
        "id": "EvwoO-XAHhIm",
        "colab": {
          "base_uri": "https://localhost:8080/"
        },
        "outputId": "308c119f-9322-4ce1-804d-363e7ab6c8ae"
      },
      "source": [
        "# mostrar a porcentagem de cada tipo de imóvel disponível\n",
        "dfb_clean.room_type.value_counts() / dfb_clean.shape[0]"
      ],
      "execution_count": 102,
      "outputs": [
        {
          "output_type": "execute_result",
          "data": {
            "text/plain": [
              "Private room       0.632524\n",
              "Entire home/apt    0.221225\n",
              "Shared room        0.116684\n",
              "Hotel room         0.029567\n",
              "Name: room_type, dtype: float64"
            ]
          },
          "metadata": {},
          "execution_count": 102
        }
      ]
    },
    {
      "cell_type": "markdown",
      "metadata": {
        "id": "MFa5NbnLJMcd"
      },
      "source": [
        "### **8. Qual a localidade mais cara do Rio?**\n",
        "\n",
        "Uma maneira de se verificar uma variável em função da outra é usando `groupby()`. No caso, queremos comparar os bairros (*neighbourhoods*) a partir do preço de locação."
      ]
    },
    {
      "cell_type": "code",
      "metadata": {
        "id": "MD_xa143JZpi",
        "colab": {
          "base_uri": "https://localhost:8080/"
        },
        "outputId": "adc6aa8c-aced-478f-cb45-592bc899f429"
      },
      "source": [
        "# ver preços por bairros, na média, em dólares de 24.04.2022 (114.20 pesos argentinos por dólar)\n",
        "dfb_clean.groupby(['neighbourhood']).price.mean().sort_values(ascending=False)[:10]/114.20\n"
      ],
      "execution_count": 114,
      "outputs": [
        {
          "output_type": "execute_result",
          "data": {
            "text/plain": [
              "neighbourhood\n",
              "Villa Pueyrredon    12.539405\n",
              "Retiro              11.065468\n",
              "Nuñez               10.880244\n",
              "Villa Ortuzar       10.789186\n",
              "Parque Chas         10.781524\n",
              "Parque Patricios    10.716162\n",
              "Parque Chacabuco    10.546035\n",
              "Villa Del Parque    10.504378\n",
              "Paternal            10.260508\n",
              "Chacarita           10.209593\n",
              "Name: price, dtype: float64"
            ]
          },
          "metadata": {},
          "execution_count": 114
        }
      ]
    },
    {
      "cell_type": "markdown",
      "source": [
        "Acima, vemos que bairros como Villa Pueryrredon, estão com média de preço superior a de lugares como Chacarita, Paternal e Villa del Parque.\n",
        "\n",
        "Uma pessoa que não conhecesse Buenos Aires poderia apresentar esses resultados sem se questionar. Só para dar um único exemplo de como uma amostra pode ser não-representativa, veja quantas entradas há para Villa Pueryrredon."
      ],
      "metadata": {
        "id": "Jo65Zb7vJfvN"
      }
    },
    {
      "cell_type": "code",
      "source": [
        "# ver quantidade de imóveis no Villa Pueyrredon\n",
        "print(dfb_clean[dfb_clean.neighbourhood == \"Villa Pueyrredon\"].shape)\n",
        "\n",
        "# ver a entrada do Villa Pueyrredon\n",
        "dfb_clean[dfb_clean.neighbourhood == \"Villa Pueyrredon\"]"
      ],
      "metadata": {
        "colab": {
          "base_uri": "https://localhost:8080/",
          "height": 179
        },
        "id": "xcZObNwBJ5Tn",
        "outputId": "00b8b795-db99-4f4d-ab86-e27d957c77b9"
      },
      "execution_count": 118,
      "outputs": [
        {
          "output_type": "stream",
          "name": "stdout",
          "text": [
            "(1, 17)\n"
          ]
        },
        {
          "output_type": "execute_result",
          "data": {
            "text/plain": [
              "             id            name    host_id host_name     neighbourhood  \\\n",
              "13259  41876012  Sergio's place  331139916    Sergio  Villa Pueyrredon   \n",
              "\n",
              "       latitude  longitude        room_type  price  minimum_nights  \\\n",
              "13259 -34.58587  -58.50162  Entire home/apt   1432               4   \n",
              "\n",
              "       number_of_reviews last_review  reviews_per_month  \\\n",
              "13259                  1  2020-02-13               0.04   \n",
              "\n",
              "       calculated_host_listings_count  availability_365  \\\n",
              "13259                               1                47   \n",
              "\n",
              "       number_of_reviews_ltm license  \n",
              "13259                      0     NaN  "
            ],
            "text/html": [
              "\n",
              "  <div id=\"df-6d136d58-a75f-4d79-8203-1a5bb64148af\">\n",
              "    <div class=\"colab-df-container\">\n",
              "      <div>\n",
              "<style scoped>\n",
              "    .dataframe tbody tr th:only-of-type {\n",
              "        vertical-align: middle;\n",
              "    }\n",
              "\n",
              "    .dataframe tbody tr th {\n",
              "        vertical-align: top;\n",
              "    }\n",
              "\n",
              "    .dataframe thead th {\n",
              "        text-align: right;\n",
              "    }\n",
              "</style>\n",
              "<table border=\"1\" class=\"dataframe\">\n",
              "  <thead>\n",
              "    <tr style=\"text-align: right;\">\n",
              "      <th></th>\n",
              "      <th>id</th>\n",
              "      <th>name</th>\n",
              "      <th>host_id</th>\n",
              "      <th>host_name</th>\n",
              "      <th>neighbourhood</th>\n",
              "      <th>latitude</th>\n",
              "      <th>longitude</th>\n",
              "      <th>room_type</th>\n",
              "      <th>price</th>\n",
              "      <th>minimum_nights</th>\n",
              "      <th>number_of_reviews</th>\n",
              "      <th>last_review</th>\n",
              "      <th>reviews_per_month</th>\n",
              "      <th>calculated_host_listings_count</th>\n",
              "      <th>availability_365</th>\n",
              "      <th>number_of_reviews_ltm</th>\n",
              "      <th>license</th>\n",
              "    </tr>\n",
              "  </thead>\n",
              "  <tbody>\n",
              "    <tr>\n",
              "      <th>13259</th>\n",
              "      <td>41876012</td>\n",
              "      <td>Sergio's place</td>\n",
              "      <td>331139916</td>\n",
              "      <td>Sergio</td>\n",
              "      <td>Villa Pueyrredon</td>\n",
              "      <td>-34.58587</td>\n",
              "      <td>-58.50162</td>\n",
              "      <td>Entire home/apt</td>\n",
              "      <td>1432</td>\n",
              "      <td>4</td>\n",
              "      <td>1</td>\n",
              "      <td>2020-02-13</td>\n",
              "      <td>0.04</td>\n",
              "      <td>1</td>\n",
              "      <td>47</td>\n",
              "      <td>0</td>\n",
              "      <td>NaN</td>\n",
              "    </tr>\n",
              "  </tbody>\n",
              "</table>\n",
              "</div>\n",
              "      <button class=\"colab-df-convert\" onclick=\"convertToInteractive('df-6d136d58-a75f-4d79-8203-1a5bb64148af')\"\n",
              "              title=\"Convert this dataframe to an interactive table.\"\n",
              "              style=\"display:none;\">\n",
              "        \n",
              "  <svg xmlns=\"http://www.w3.org/2000/svg\" height=\"24px\"viewBox=\"0 0 24 24\"\n",
              "       width=\"24px\">\n",
              "    <path d=\"M0 0h24v24H0V0z\" fill=\"none\"/>\n",
              "    <path d=\"M18.56 5.44l.94 2.06.94-2.06 2.06-.94-2.06-.94-.94-2.06-.94 2.06-2.06.94zm-11 1L8.5 8.5l.94-2.06 2.06-.94-2.06-.94L8.5 2.5l-.94 2.06-2.06.94zm10 10l.94 2.06.94-2.06 2.06-.94-2.06-.94-.94-2.06-.94 2.06-2.06.94z\"/><path d=\"M17.41 7.96l-1.37-1.37c-.4-.4-.92-.59-1.43-.59-.52 0-1.04.2-1.43.59L10.3 9.45l-7.72 7.72c-.78.78-.78 2.05 0 2.83L4 21.41c.39.39.9.59 1.41.59.51 0 1.02-.2 1.41-.59l7.78-7.78 2.81-2.81c.8-.78.8-2.07 0-2.86zM5.41 20L4 18.59l7.72-7.72 1.47 1.35L5.41 20z\"/>\n",
              "  </svg>\n",
              "      </button>\n",
              "      \n",
              "  <style>\n",
              "    .colab-df-container {\n",
              "      display:flex;\n",
              "      flex-wrap:wrap;\n",
              "      gap: 12px;\n",
              "    }\n",
              "\n",
              "    .colab-df-convert {\n",
              "      background-color: #E8F0FE;\n",
              "      border: none;\n",
              "      border-radius: 50%;\n",
              "      cursor: pointer;\n",
              "      display: none;\n",
              "      fill: #1967D2;\n",
              "      height: 32px;\n",
              "      padding: 0 0 0 0;\n",
              "      width: 32px;\n",
              "    }\n",
              "\n",
              "    .colab-df-convert:hover {\n",
              "      background-color: #E2EBFA;\n",
              "      box-shadow: 0px 1px 2px rgba(60, 64, 67, 0.3), 0px 1px 3px 1px rgba(60, 64, 67, 0.15);\n",
              "      fill: #174EA6;\n",
              "    }\n",
              "\n",
              "    [theme=dark] .colab-df-convert {\n",
              "      background-color: #3B4455;\n",
              "      fill: #D2E3FC;\n",
              "    }\n",
              "\n",
              "    [theme=dark] .colab-df-convert:hover {\n",
              "      background-color: #434B5C;\n",
              "      box-shadow: 0px 1px 3px 1px rgba(0, 0, 0, 0.15);\n",
              "      filter: drop-shadow(0px 1px 2px rgba(0, 0, 0, 0.3));\n",
              "      fill: #FFFFFF;\n",
              "    }\n",
              "  </style>\n",
              "\n",
              "      <script>\n",
              "        const buttonEl =\n",
              "          document.querySelector('#df-6d136d58-a75f-4d79-8203-1a5bb64148af button.colab-df-convert');\n",
              "        buttonEl.style.display =\n",
              "          google.colab.kernel.accessAllowed ? 'block' : 'none';\n",
              "\n",
              "        async function convertToInteractive(key) {\n",
              "          const element = document.querySelector('#df-6d136d58-a75f-4d79-8203-1a5bb64148af');\n",
              "          const dataTable =\n",
              "            await google.colab.kernel.invokeFunction('convertToInteractive',\n",
              "                                                     [key], {});\n",
              "          if (!dataTable) return;\n",
              "\n",
              "          const docLinkHtml = 'Like what you see? Visit the ' +\n",
              "            '<a target=\"_blank\" href=https://colab.research.google.com/notebooks/data_table.ipynb>data table notebook</a>'\n",
              "            + ' to learn more about interactive tables.';\n",
              "          element.innerHTML = '';\n",
              "          dataTable['output_type'] = 'display_data';\n",
              "          await google.colab.output.renderOutput(dataTable, element);\n",
              "          const docLink = document.createElement('div');\n",
              "          docLink.innerHTML = docLinkHtml;\n",
              "          element.appendChild(docLink);\n",
              "        }\n",
              "      </script>\n",
              "    </div>\n",
              "  </div>\n",
              "  "
            ]
          },
          "metadata": {},
          "execution_count": 118
        }
      ]
    },
    {
      "cell_type": "code",
      "metadata": {
        "id": "UxVJqJ_3W59I",
        "colab": {
          "base_uri": "https://localhost:8080/",
          "height": 472
        },
        "outputId": "c2c1e8e7-68b7-4465-eeeb-08bb0b358cf5"
      },
      "source": [
        "# plotar os imóveis pela latitude-longitude\n",
        "dfb_clean.plot(kind=\"scatter\", x='longitude', y='latitude', alpha=0.4, c=dfb_clean['price'], s=8,\n",
        "              cmap=plt.get_cmap('jet'), figsize=(12,8));"
      ],
      "execution_count": 119,
      "outputs": [
        {
          "output_type": "display_data",
          "data": {
            "text/plain": [
              "<Figure size 864x576 with 2 Axes>"
            ],
            "image/png": "[encoded data removed]"
          },
          "metadata": {
            "needs_background": "light"
          }
        }
      ]
    },
    {
      "cell_type": "markdown",
      "metadata": {
        "id": "vTneAMRUYvr1"
      },
      "source": [
        "### **9. Qual é a média do mínimo de noites para aluguel (minimum_nights)?**"
      ]
    },
    {
      "cell_type": "code",
      "metadata": {
        "id": "_VzNhrEgY82N",
        "colab": {
          "base_uri": "https://localhost:8080/"
        },
        "outputId": "b1a724e2-749d-4d01-d4f7-9ac06b5c8b57"
      },
      "source": [
        "# ver a média da coluna `minimum_nights``\n",
        "dfb_clean.minimum_nights.mean()"
      ],
      "execution_count": 120,
      "outputs": [
        {
          "output_type": "execute_result",
          "data": {
            "text/plain": [
              "5.132523759239704"
            ]
          },
          "metadata": {},
          "execution_count": 120
        }
      ]
    },
    {
      "cell_type": "markdown",
      "metadata": {
        "id": "GkvAg623RjoR"
      },
      "source": [
        "## Conclusões\n",
        "\n",
        "Foi feita apenas uma análise superficial na base de dados do Airbnb, porém já se percebeu que existem *outliers* em algumas das variáveis. \n",
        "\n",
        "Também se notou que em algumas localidades há poucos imóveis disponíveis, o que pode distorcer as informações estatísticas de alguns atributos.\n",
        "\n",
        "Por fim, lembra-se que este *dataset* é uma versão resumida, ideal apenas para uma abordagem inicial. Recomenda-se que seja usado, em uma próxima análise exploratória, o conjunto de dados completos, com 106 atributos disponíveis."
      ]
    }
  ]
}